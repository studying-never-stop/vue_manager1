{
 "cells": [
  {
   "cell_type": "code",
   "execution_count": null,
   "metadata": {},
   "outputs": [],
   "source": [
    "import functools\n",
    "\n",
    "from flask import (\n",
    "    Blueprint, flash, g, redirect, render_template, request, session, url_for\n",
    ")\n",
    "from werkzeug.security import check_password_hash, generate_password_hash\n",
    "\n",
    "bp = Blueprint('auth', __name__, url_prefix='/auth')"
   ]
  },
  {
   "cell_type": "code",
   "execution_count": null,
   "metadata": {},
   "outputs": [],
   "source": [
    "from flask import Flask\n",
    "import json\n",
    "\n",
    "app = Flask(\"flaskone\",port=11111)\n",
    "\n",
    "\n",
    "@app.route('/')\n",
    "def hello():\n",
    "    return 'Hello, World!'\n",
    "\n",
    "@app.route('/login',[\"POST\"])\n",
    "def login():\n",
    "    data = json.load(request.data)\n",
    "    user_name = data['user_name']"
   ]
  },
  {
   "cell_type": "code",
   "execution_count": null,
   "metadata": {},
   "outputs": [],
   "source": []
  }
 ],
 "metadata": {
  "language_info": {
   "name": "python"
  },
  "orig_nbformat": 4
 },
 "nbformat": 4,
 "nbformat_minor": 2
}
